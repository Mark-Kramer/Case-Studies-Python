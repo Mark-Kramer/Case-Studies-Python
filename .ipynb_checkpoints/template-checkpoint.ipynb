{
 "cells": [
  {
   "cell_type": "markdown",
   "metadata": {},
   "source": [
    "<a id=\"top\"></a> \n",
    "\n",
    "# Template *Case Studies* Notebook"
   ]
  },
  {
   "cell_type": "markdown",
   "metadata": {},
   "source": [
    "<div class=\"question\">\n",
    "    \n",
    "_**Synopsis**_ \n",
    "\n",
    "**Data:** \n",
    "\n",
    "\n",
    "**Goal:** \n",
    "\n",
    "\n",
    "**Tools:** \n",
    "    \n",
    "</div>"
   ]
  },
  {
   "cell_type": "markdown",
   "metadata": {},
   "source": [
    "* [On-ramp: main take-away from this notebook](#onramp)\n",
    "* [Introduction](#introduction)\n",
    "* [Data analysis](#data-analysis)\n",
    "    1. Add some subsections\n",
    "* [Summary](#summary)"
   ]
  },
  {
   "cell_type": "markdown",
   "metadata": {},
   "source": [
    "<a id=\"onramp\"></a>\n",
    "\n",
    "## On-ramp: main take-away from this notebook\n",
    "Text\n",
    "\n",
    "Our advice is to simply run the code below and see what happens ..."
   ]
  },
  {
   "cell_type": "code",
   "execution_count": 2,
   "metadata": {},
   "outputs": [],
   "source": [
    "# Import packages\n",
    "from pylab import *           \n",
    "%matplotlib inline\n",
    "\n",
    "# Include full implementation of your case study analysis\n"
   ]
  },
  {
   "cell_type": "markdown",
   "metadata": {},
   "source": [
    "<a id=\"introduction\"></a>\n",
    "\n",
    "## Introduction\n",
    "\n",
    "Text\n",
    "\n",
    "### Case Study Data\n",
    "\n",
    "Text\n",
    "\n",
    "### Goal\n",
    "\n",
    "Text\n",
    "\n",
    "### Tools\n",
    "\n",
    "Text"
   ]
  },
  {
   "cell_type": "markdown",
   "metadata": {},
   "source": [
    "<a id=\"data-analysis\"></a>\n",
    "       \n",
    "## Data Analysis"
   ]
  },
  {
   "cell_type": "markdown",
   "metadata": {},
   "source": [
    "Here's how to:\n",
    "\n",
    "1. add a <sup><abbr title=\"The biophysical mechanisms that produce a spike support this statement. After generating a spike, the neuron experiences a refractory period typically lasting a few milliseconds, in which generating a subsequent spike is very unlikely.\">note</abbr></sup>\n",
    "1. link to <a href=\"01\" rel=\"local\">another chapter</a>\n",
    "1. ... or an outside source <a href=\"https://doi.org/10.1113/jphysiol.1952.sp004764\" rel=\"external\">[Hodgkin & Huxley, 1952]</a>\n",
    "1. create a hover figure<a href=\"#top\" class=\"sup\">fig<img src=\"_config/logo/logo.png\"></a> or equation<a href=\"#introduction\" class=\"sup\">eq<img src=\"imgs/eq5.png\"></a>"
   ]
  },
  {
   "cell_type": "markdown",
   "metadata": {},
   "source": [
    "<div class=\"question\">\n",
    "\n",
    "**Q:** This is a question.\n",
    "\n",
    "**A:** And an answer.\n",
    "\n",
    "</div>"
   ]
  },
  {
   "cell_type": "markdown",
   "metadata": {},
   "source": [
    "<div class=\"python-note\">\n",
    "\n",
    "This is a Python note.\n",
    "\n",
    "</div>"
   ]
  },
  {
   "cell_type": "markdown",
   "metadata": {},
   "source": [
    "<div class=\"math-note\">\n",
    "\n",
    "This is a math note.\n",
    "    \n",
    "</div>"
   ]
  },
  {
   "cell_type": "markdown",
   "metadata": {},
   "source": [
    "[Back to top](#top)"
   ]
  },
  {
   "cell_type": "markdown",
   "metadata": {},
   "source": [
    "<a id=\"summary\"></a>\n",
    "\n",
    "## Summary\n",
    "\n",
    "Text"
   ]
  },
  {
   "cell_type": "markdown",
   "metadata": {},
   "source": [
    "[Back to top](#top)"
   ]
  }
 ],
 "metadata": {
  "jupytext": {
   "formats": "ipynb,md:myst"
  },
  "kernelspec": {
   "display_name": "Python 3",
   "language": "python",
   "name": "python3"
  },
  "language_info": {
   "codemirror_mode": {
    "name": "ipython",
    "version": 3
   },
   "file_extension": ".py",
   "mimetype": "text/x-python",
   "name": "python",
   "nbconvert_exporter": "python",
   "pygments_lexer": "ipython3",
   "version": "3.7.7"
  }
 },
 "nbformat": 4,
 "nbformat_minor": 4
}
