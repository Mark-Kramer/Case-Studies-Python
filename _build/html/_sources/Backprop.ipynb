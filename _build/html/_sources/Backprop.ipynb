{
 "cells": [
  {
   "cell_type": "markdown",
   "metadata": {},
   "source": [
    "# Backpropagation\n",
    "\n",
    "In this notebook, we will implement the backpropagation procedure for a two-node network. We'll start by implementing each step of the backpropagation procedure, and then combine these steps together to create a complete backpropagation algorithm."
   ]
  },
  {
   "cell_type": "markdown",
   "metadata": {},
   "source": [
    "##  Preliminaries\n",
    "Text preceded by a `#` indicates a 'comment'.  I will use comments to explain what we're doing and to ask you questions.  Also, comments are useful in your own code to note what you've done (so it makes sense when you return to the code in the future).  It's a good habit to *always* comment your code.  I'll try to set a good example, but won't always . . . \n",
    "\n",
    "Before beginning, let's load in the Python packages we'll need:"
   ]
  },
  {
   "cell_type": "code",
   "execution_count": 1,
   "metadata": {},
   "outputs": [],
   "source": [
    "from pylab import *\n",
    "%matplotlib inline\n",
    "rcParams['figure.figsize']=(12,3)                # Change the default figure size"
   ]
  },
  {
   "cell_type": "markdown",
   "metadata": {},
   "source": [
    "##  Steps to backpropagation\n",
    "\n",
    "We outlined 4 steps to perform backpropagation,\n",
    "\n",
    "   1. Choose random initial weights.\n",
    "   2. Fix input at desired value, and calculate output.\n",
    "   3. Update the weights.\n",
    "   4. Repeat steps 2 & 3 many times.\n",
    "\n",
    "Let's now implement these steps."
   ]
  },
  {
   "cell_type": "markdown",
   "metadata": {},
   "source": [
    "## Step 1. Choose random initial weights.\n",
    "  This step is easy. We need to choose the three initial weights in our\n",
    "  2-node model.  We can choose these weights to be anything we like,\n",
    "  within reason.  Let's set:"
   ]
  },
  {
   "cell_type": "code",
   "execution_count": 2,
   "metadata": {},
   "outputs": [],
   "source": [
    "w0 = 2\n",
    "w1 = 1\n",
    "w2 = 0.5"
   ]
  },
  {
   "cell_type": "markdown",
   "metadata": {},
   "source": [
    "<div class=\"question\">\n",
    "    \n",
    "**Q:**  Why choose these weights?\n",
    "\n",
    "</div>"
   ]
  },
  {
   "cell_type": "markdown",
   "metadata": {},
   "source": [
    "Then, in backpropagation, we'll update these weights so that our neural\n",
    "network - when given a specific input - produces a desired output."
   ]
  },
  {
   "cell_type": "markdown",
   "metadata": {},
   "source": [
    "## Step 2.  Fix input at desired value, and calculate output. \n",
    "  Our next step is to choose an input, send this input to our neural\n",
    "  network, and compute the output.  This is called the *feedforward\n",
    "  solution*; we're \"feeding\" our neural network the input, sending this\n",
    "  input \"forward\" through the network, and returning the output.\n",
    "\n",
    "  Let's start by choosing an input,"
   ]
  },
  {
   "cell_type": "code",
   "execution_count": 3,
   "metadata": {},
   "outputs": [],
   "source": [
    "s0 = 2"
   ]
  },
  {
   "cell_type": "markdown",
   "metadata": {},
   "source": [
    "  Then, we need to send this input through our network. We'll do this in\n",
    "  multiple steps.  First, let's compute the activity of the first neuron:"
   ]
  },
  {
   "cell_type": "code",
   "execution_count": 4,
   "metadata": {},
   "outputs": [],
   "source": [
    "x1 = w0*s0"
   ]
  },
  {
   "cell_type": "markdown",
   "metadata": {},
   "source": [
    "  Then, to determine the output of the first neuron, we need to send this\n",
    "  activity through a sigmoid function.  To do that, we first need to\n",
    "  *define* the sigmoid function ... Let's do so here in Python,"
   ]
  },
  {
   "cell_type": "code",
   "execution_count": 5,
   "metadata": {},
   "outputs": [],
   "source": [
    "def sigmoid(x):\n",
    "    return 1/(1+exp(-x))"
   ]
  },
  {
   "cell_type": "markdown",
   "metadata": {},
   "source": [
    "  This function takes one input (`x`), and returns one output equal to the numerical\n",
    "  value of the sigmoid function at that value of `x`. For example, to\n",
    "  compute the value of the sigmoid function at `x=0.5`, and save this output\n",
    "  in a variable `s`, we execute the following command,"
   ]
  },
  {
   "cell_type": "code",
   "execution_count": 6,
   "metadata": {},
   "outputs": [
    {
     "name": "stdout",
     "output_type": "stream",
     "text": [
      "0.6224593312018546\n"
     ]
    }
   ],
   "source": [
    "s = sigmoid(0.5)\n",
    "print(s)"
   ]
  },
  {
   "cell_type": "markdown",
   "metadata": {},
   "source": [
    "Now we're able to compute the output of our first neuron,"
   ]
  },
  {
   "cell_type": "code",
   "execution_count": 7,
   "metadata": {},
   "outputs": [],
   "source": [
    "s1 = sigmoid(x1)"
   ]
  },
  {
   "cell_type": "markdown",
   "metadata": {},
   "source": [
    "We can ontinue our feedforward computation to determine the output of our neural network."
   ]
  },
  {
   "cell_type": "code",
   "execution_count": 8,
   "metadata": {},
   "outputs": [
    {
     "name": "stdout",
     "output_type": "stream",
     "text": [
      "0.36375380675182073\n"
     ]
    }
   ],
   "source": [
    "x2 = w1*s1\n",
    "s2 = sigmoid(x2)\n",
    "out = w2*s2\n",
    "print(out)"
   ]
  },
  {
   "cell_type": "markdown",
   "metadata": {},
   "source": [
    "## Step 3.  Update the weights.\n",
    " To update the weights, we'll use the expressions we derived in class \n",
    " for the updated values of `w0` and `w1`.  Let's write those here ...\n",
    "\n",
    " But first, remember that to compute the weight update, we need to define\n",
    " a learning rate,"
   ]
  },
  {
   "cell_type": "code",
   "execution_count": 9,
   "metadata": {},
   "outputs": [],
   "source": [
    "alpha  = 0.1    #Here we'll set the learning rate to 0.1."
   ]
  },
  {
   "cell_type": "markdown",
   "metadata": {},
   "source": [
    "And we also need to define a target value we would like our neural network to produce as output,"
   ]
  },
  {
   "cell_type": "code",
   "execution_count": 10,
   "metadata": {},
   "outputs": [],
   "source": [
    "target = 0.7"
   ]
  },
  {
   "cell_type": "markdown",
   "metadata": {},
   "source": [
    "Then, let's define two weight updates,"
   ]
  },
  {
   "cell_type": "code",
   "execution_count": 11,
   "metadata": {},
   "outputs": [],
   "source": [
    "w2 = w2 - alpha*(out-target)*s2\n",
    "w1 = w1 - alpha*(out-target)*(w2*s2*(1-s2)*s1)"
   ]
  },
  {
   "cell_type": "markdown",
   "metadata": {},
   "source": [
    "<div class=\"question\">\n",
    "\n",
    "**Q:**  Do these two expressions match the equations for the weight updates we derived in class?  HINT: They should!\n",
    "\n",
    "</div>"
   ]
  },
  {
   "cell_type": "markdown",
   "metadata": {},
   "source": [
    "We need one more expression, to update the last weight, w0."
   ]
  },
  {
   "cell_type": "code",
   "execution_count": 12,
   "metadata": {},
   "outputs": [],
   "source": [
    "w0 = '????????'  # <-- Fill in the proper expression"
   ]
  },
  {
   "cell_type": "markdown",
   "metadata": {},
   "source": [
    "<div class=\"question\">\n",
    "\n",
    "**Q:** What is the expression for `w0` in the equation above?\n",
    "\n",
    "</div>"
   ]
  },
  {
   "cell_type": "markdown",
   "metadata": {},
   "source": [
    "## Step 4.  Repeat steps 2 & 3 many times.\n",
    " Now, we'd like to repeat Steps 2 & 3 many times. In doing so, we'll\n",
    " perform gradient descent, and move (slowly) down our cost function,\n",
    " until we reach a minimum.\n",
    "\n",
    " We could try to compute these repetitions by hand, for example by repeating\n",
    " the cells above. To do so, we'd need to take the new weights we just\n",
    " found in Step 3, compute the feedforward solution to our neural network,\n",
    " and then update the neural network's weights (which depends on how close\n",
    " our neural network's output is to the target value).\n",
    "\n",
    " But, we want to evaluate this procedure 1000 times. We could do this by\n",
    " hand, but it'd be a total pain, and highly error prone. Instead, let's\n",
    " ask a computer to do the boring work of multiple repetitions. To do so,\n",
    " let's collect the code above, and repeat it 1000 times. We'll wrap our\n",
    " code above inside a `for-loop` to make this efficient,"
   ]
  },
  {
   "cell_type": "code",
   "execution_count": 13,
   "metadata": {},
   "outputs": [
    {
     "data": {
      "image/png": "[encoded data removed]",
      "text/plain": [
       "<Figure size 864x216 with 1 Axes>"
      ]
     },
     "metadata": {
      "needs_background": "light"
     },
     "output_type": "display_data"
    }
   ],
   "source": [
    "s0 = 2                          # Define the input,\n",
    "target = 0.7                    # ... and the target output.\n",
    "\n",
    "w0 = 2                          # Choose initial values for the weights.\n",
    "w1 = 1\n",
    "w2 = 0.5\n",
    "\n",
    "alpha = 0.1                     # Set the learning constant.\n",
    "\n",
    "def sigmoid(x):\n",
    "    return 1/(1+exp(-x))     # Define the sigmoid anonymous function.\n",
    "\n",
    "results = zeros([1000,4])    # Define a variable to hold the results of each iteration.    \n",
    "for k in range(1000):           # For 1000 iteractions,\n",
    "    \n",
    "    #Step 2. Calculate feedforward solution to get output.\n",
    "    x1 = w0*s0                  # ... activity of first neuron,\n",
    "    s1 = sigmoid(x1)            # ... output of first neuron,\n",
    "    x2 = w1*s1                  # ... activity of second neuron,\n",
    "    s2 = sigmoid(x2)            # ... output of second neuron,\n",
    "    out= w2*s2                  # Output of neural network.\n",
    "    \n",
    "    #Step 3. Update the weights.\n",
    "    w2 = w2 - alpha*(out-target)*s2\n",
    "    w1 = w1 - alpha*(out-target)*(w2*s2*(1-s2)*s1)\n",
    "    w0 = w0 - alpha*(out-target)*(w2*s2*(1-s2)*w1)*(s1*(1-s1)*s0)\n",
    "    \n",
    "    # Save the results of this step! --------------------------------------\n",
    "    results[k,:] = [w2,w1,w0,  out]\n",
    "    # Here we save the 3 weights, the neural network output.\n",
    "\n",
    "clf()\n",
    "plot(results[:,0], label='w2')\n",
    "plot(results[:,1], label='w1')\n",
    "plot(results[:,2], label='w0')\n",
    "plot(results[:,3], label='out')\n",
    "plot(arange(1000), 1000*[target], 'k', label='target')  #... and plot the *target*.\n",
    "legend() #Iclude a legend,\n",
    "xlabel('Iteration number');         #... and axis label."
   ]
  }
 ],
 "metadata": {
  "jupytext": {
   "formats": "ipynb,md:myst"
  },
  "kernelspec": {
   "display_name": "Python 3",
   "language": "python",
   "name": "python3"
  },
  "language_info": {
   "codemirror_mode": {
    "name": "ipython",
    "version": 3
   },
   "file_extension": ".py",
   "mimetype": "text/x-python",
   "name": "python",
   "nbconvert_exporter": "python",
   "pygments_lexer": "ipython3",
   "version": "3.7.7"
  }
 },
 "nbformat": 4,
 "nbformat_minor": 2
}
